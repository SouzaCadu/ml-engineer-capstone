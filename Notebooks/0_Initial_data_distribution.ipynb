{
 "cells": [
  {
   "cell_type": "code",
   "execution_count": 2,
   "metadata": {
    "scrolled": true
   },
   "outputs": [
    {
     "name": "stdout",
     "output_type": "stream",
     "text": [
      "Requirement already satisfied: pandas-profiling in /Users/cadu/opt/anaconda3/lib/python3.7/site-packages (2.8.0)\n",
      "Requirement already satisfied: scipy>=1.4.1 in /Users/cadu/opt/anaconda3/lib/python3.7/site-packages (from pandas-profiling) (1.4.1)\n",
      "Requirement already satisfied: numpy>=1.16.0 in /Users/cadu/opt/anaconda3/lib/python3.7/site-packages (from pandas-profiling) (1.18.1)\n",
      "Requirement already satisfied: confuse>=1.0.0 in /Users/cadu/opt/anaconda3/lib/python3.7/site-packages (from pandas-profiling) (1.1.0)\n",
      "Requirement already satisfied: jinja2>=2.11.1 in /Users/cadu/opt/anaconda3/lib/python3.7/site-packages (from pandas-profiling) (2.11.1)\n",
      "Requirement already satisfied: astropy>=4.0 in /Users/cadu/opt/anaconda3/lib/python3.7/site-packages (from pandas-profiling) (4.0)\n",
      "Requirement already satisfied: missingno>=0.4.2 in /Users/cadu/opt/anaconda3/lib/python3.7/site-packages (from pandas-profiling) (0.4.2)\n",
      "Requirement already satisfied: phik>=0.9.10 in /Users/cadu/opt/anaconda3/lib/python3.7/site-packages (from pandas-profiling) (0.10.0)\n",
      "Requirement already satisfied: requests>=2.23.0 in /Users/cadu/opt/anaconda3/lib/python3.7/site-packages (from pandas-profiling) (2.24.0)\n",
      "Requirement already satisfied: pandas!=1.0.0,!=1.0.1,!=1.0.2,>=0.25.3 in /Users/cadu/opt/anaconda3/lib/python3.7/site-packages (from pandas-profiling) (1.0.5)\n",
      "Requirement already satisfied: tqdm>=4.43.0 in /Users/cadu/opt/anaconda3/lib/python3.7/site-packages (from pandas-profiling) (4.46.1)\n",
      "Requirement already satisfied: matplotlib>=3.2.0 in /Users/cadu/opt/anaconda3/lib/python3.7/site-packages (from pandas-profiling) (3.2.2)\n",
      "Requirement already satisfied: tangled-up-in-unicode>=0.0.6 in /Users/cadu/opt/anaconda3/lib/python3.7/site-packages (from pandas-profiling) (0.0.6)\n",
      "Requirement already satisfied: joblib in /Users/cadu/opt/anaconda3/lib/python3.7/site-packages (from pandas-profiling) (0.14.1)\n",
      "Requirement already satisfied: visions[type_image_path]==0.4.4 in /Users/cadu/opt/anaconda3/lib/python3.7/site-packages (from pandas-profiling) (0.4.4)\n",
      "Requirement already satisfied: htmlmin>=0.1.12 in /Users/cadu/opt/anaconda3/lib/python3.7/site-packages (from pandas-profiling) (0.1.12)\n",
      "Requirement already satisfied: ipywidgets>=7.5.1 in /Users/cadu/opt/anaconda3/lib/python3.7/site-packages (from pandas-profiling) (7.5.1)\n",
      "Requirement already satisfied: pyyaml in /Users/cadu/opt/anaconda3/lib/python3.7/site-packages (from confuse>=1.0.0->pandas-profiling) (5.3)\n",
      "Requirement already satisfied: MarkupSafe>=0.23 in /Users/cadu/opt/anaconda3/lib/python3.7/site-packages (from jinja2>=2.11.1->pandas-profiling) (1.1.1)\n",
      "Requirement already satisfied: seaborn in /Users/cadu/opt/anaconda3/lib/python3.7/site-packages (from missingno>=0.4.2->pandas-profiling) (0.10.0)\n",
      "Requirement already satisfied: numba>=0.38.1 in /Users/cadu/opt/anaconda3/lib/python3.7/site-packages (from phik>=0.9.10->pandas-profiling) (0.48.0)\n",
      "Requirement already satisfied: idna<3,>=2.5 in /Users/cadu/opt/anaconda3/lib/python3.7/site-packages (from requests>=2.23.0->pandas-profiling) (2.8)\n",
      "Requirement already satisfied: certifi>=2017.4.17 in /Users/cadu/opt/anaconda3/lib/python3.7/site-packages (from requests>=2.23.0->pandas-profiling) (2019.11.28)\n",
      "Requirement already satisfied: chardet<4,>=3.0.2 in /Users/cadu/opt/anaconda3/lib/python3.7/site-packages (from requests>=2.23.0->pandas-profiling) (3.0.4)\n",
      "Requirement already satisfied: urllib3!=1.25.0,!=1.25.1,<1.26,>=1.21.1 in /Users/cadu/opt/anaconda3/lib/python3.7/site-packages (from requests>=2.23.0->pandas-profiling) (1.25.8)\n",
      "Requirement already satisfied: pytz>=2017.2 in /Users/cadu/opt/anaconda3/lib/python3.7/site-packages (from pandas!=1.0.0,!=1.0.1,!=1.0.2,>=0.25.3->pandas-profiling) (2019.3)\n",
      "Requirement already satisfied: python-dateutil>=2.6.1 in /Users/cadu/opt/anaconda3/lib/python3.7/site-packages (from pandas!=1.0.0,!=1.0.1,!=1.0.2,>=0.25.3->pandas-profiling) (2.8.1)\n",
      "Requirement already satisfied: kiwisolver>=1.0.1 in /Users/cadu/opt/anaconda3/lib/python3.7/site-packages (from matplotlib>=3.2.0->pandas-profiling) (1.1.0)\n",
      "Requirement already satisfied: pyparsing!=2.0.4,!=2.1.2,!=2.1.6,>=2.0.1 in /Users/cadu/opt/anaconda3/lib/python3.7/site-packages (from matplotlib>=3.2.0->pandas-profiling) (2.4.6)\n",
      "Requirement already satisfied: cycler>=0.10 in /Users/cadu/opt/anaconda3/lib/python3.7/site-packages (from matplotlib>=3.2.0->pandas-profiling) (0.10.0)\n",
      "Requirement already satisfied: networkx>=2.4 in /Users/cadu/opt/anaconda3/lib/python3.7/site-packages (from visions[type_image_path]==0.4.4->pandas-profiling) (2.4)\n",
      "Requirement already satisfied: attrs>=19.3.0 in /Users/cadu/opt/anaconda3/lib/python3.7/site-packages (from visions[type_image_path]==0.4.4->pandas-profiling) (19.3.0)\n",
      "Requirement already satisfied: Pillow; extra == \"type_image_path\" in /Users/cadu/opt/anaconda3/lib/python3.7/site-packages (from visions[type_image_path]==0.4.4->pandas-profiling) (7.0.0)\n",
      "Requirement already satisfied: imagehash; extra == \"type_image_path\" in /Users/cadu/opt/anaconda3/lib/python3.7/site-packages (from visions[type_image_path]==0.4.4->pandas-profiling) (4.1.0)\n",
      "Requirement already satisfied: traitlets>=4.3.1 in /Users/cadu/opt/anaconda3/lib/python3.7/site-packages (from ipywidgets>=7.5.1->pandas-profiling) (4.3.3)\n",
      "Requirement already satisfied: ipython>=4.0.0; python_version >= \"3.3\" in /Users/cadu/opt/anaconda3/lib/python3.7/site-packages (from ipywidgets>=7.5.1->pandas-profiling) (7.12.0)\n",
      "Requirement already satisfied: nbformat>=4.2.0 in /Users/cadu/opt/anaconda3/lib/python3.7/site-packages (from ipywidgets>=7.5.1->pandas-profiling) (5.0.4)\n",
      "Requirement already satisfied: ipykernel>=4.5.1 in /Users/cadu/opt/anaconda3/lib/python3.7/site-packages (from ipywidgets>=7.5.1->pandas-profiling) (5.1.4)\n",
      "Requirement already satisfied: widgetsnbextension~=3.5.0 in /Users/cadu/opt/anaconda3/lib/python3.7/site-packages (from ipywidgets>=7.5.1->pandas-profiling) (3.5.1)\n",
      "Requirement already satisfied: llvmlite<0.32.0,>=0.31.0dev0 in /Users/cadu/opt/anaconda3/lib/python3.7/site-packages (from numba>=0.38.1->phik>=0.9.10->pandas-profiling) (0.31.0)\n",
      "Requirement already satisfied: setuptools in /Users/cadu/opt/anaconda3/lib/python3.7/site-packages (from numba>=0.38.1->phik>=0.9.10->pandas-profiling) (46.0.0.post20200309)\n",
      "Requirement already satisfied: six>=1.5 in /Users/cadu/opt/anaconda3/lib/python3.7/site-packages (from python-dateutil>=2.6.1->pandas!=1.0.0,!=1.0.1,!=1.0.2,>=0.25.3->pandas-profiling) (1.14.0)\n",
      "Requirement already satisfied: decorator>=4.3.0 in /Users/cadu/opt/anaconda3/lib/python3.7/site-packages (from networkx>=2.4->visions[type_image_path]==0.4.4->pandas-profiling) (4.4.1)\n",
      "Requirement already satisfied: PyWavelets in /Users/cadu/opt/anaconda3/lib/python3.7/site-packages (from imagehash; extra == \"type_image_path\"->visions[type_image_path]==0.4.4->pandas-profiling) (1.1.1)\n",
      "Requirement already satisfied: ipython-genutils in /Users/cadu/opt/anaconda3/lib/python3.7/site-packages (from traitlets>=4.3.1->ipywidgets>=7.5.1->pandas-profiling) (0.2.0)\n",
      "Requirement already satisfied: backcall in /Users/cadu/opt/anaconda3/lib/python3.7/site-packages (from ipython>=4.0.0; python_version >= \"3.3\"->ipywidgets>=7.5.1->pandas-profiling) (0.1.0)\n",
      "Requirement already satisfied: appnope; sys_platform == \"darwin\" in /Users/cadu/opt/anaconda3/lib/python3.7/site-packages (from ipython>=4.0.0; python_version >= \"3.3\"->ipywidgets>=7.5.1->pandas-profiling) (0.1.0)\n",
      "Requirement already satisfied: jedi>=0.10 in /Users/cadu/opt/anaconda3/lib/python3.7/site-packages (from ipython>=4.0.0; python_version >= \"3.3\"->ipywidgets>=7.5.1->pandas-profiling) (0.14.1)\n",
      "Requirement already satisfied: pickleshare in /Users/cadu/opt/anaconda3/lib/python3.7/site-packages (from ipython>=4.0.0; python_version >= \"3.3\"->ipywidgets>=7.5.1->pandas-profiling) (0.7.5)\n",
      "Requirement already satisfied: pygments in /Users/cadu/opt/anaconda3/lib/python3.7/site-packages (from ipython>=4.0.0; python_version >= \"3.3\"->ipywidgets>=7.5.1->pandas-profiling) (2.5.2)\n",
      "Requirement already satisfied: prompt-toolkit!=3.0.0,!=3.0.1,<3.1.0,>=2.0.0 in /Users/cadu/opt/anaconda3/lib/python3.7/site-packages (from ipython>=4.0.0; python_version >= \"3.3\"->ipywidgets>=7.5.1->pandas-profiling) (3.0.3)\n",
      "Requirement already satisfied: pexpect; sys_platform != \"win32\" in /Users/cadu/opt/anaconda3/lib/python3.7/site-packages (from ipython>=4.0.0; python_version >= \"3.3\"->ipywidgets>=7.5.1->pandas-profiling) (4.8.0)\n",
      "Requirement already satisfied: jsonschema!=2.5.0,>=2.4 in /Users/cadu/opt/anaconda3/lib/python3.7/site-packages (from nbformat>=4.2.0->ipywidgets>=7.5.1->pandas-profiling) (3.2.0)\n"
     ]
    },
    {
     "name": "stdout",
     "output_type": "stream",
     "text": [
      "Requirement already satisfied: jupyter-core in /Users/cadu/opt/anaconda3/lib/python3.7/site-packages (from nbformat>=4.2.0->ipywidgets>=7.5.1->pandas-profiling) (4.6.1)\n",
      "Requirement already satisfied: tornado>=4.2 in /Users/cadu/opt/anaconda3/lib/python3.7/site-packages (from ipykernel>=4.5.1->ipywidgets>=7.5.1->pandas-profiling) (6.0.3)\n",
      "Requirement already satisfied: jupyter-client in /Users/cadu/opt/anaconda3/lib/python3.7/site-packages (from ipykernel>=4.5.1->ipywidgets>=7.5.1->pandas-profiling) (5.3.4)\n",
      "Requirement already satisfied: notebook>=4.4.1 in /Users/cadu/opt/anaconda3/lib/python3.7/site-packages (from widgetsnbextension~=3.5.0->ipywidgets>=7.5.1->pandas-profiling) (6.0.3)\n",
      "Requirement already satisfied: parso>=0.5.0 in /Users/cadu/opt/anaconda3/lib/python3.7/site-packages (from jedi>=0.10->ipython>=4.0.0; python_version >= \"3.3\"->ipywidgets>=7.5.1->pandas-profiling) (0.5.2)\n",
      "Requirement already satisfied: wcwidth in /Users/cadu/opt/anaconda3/lib/python3.7/site-packages (from prompt-toolkit!=3.0.0,!=3.0.1,<3.1.0,>=2.0.0->ipython>=4.0.0; python_version >= \"3.3\"->ipywidgets>=7.5.1->pandas-profiling) (0.1.8)\n",
      "Requirement already satisfied: ptyprocess>=0.5 in /Users/cadu/opt/anaconda3/lib/python3.7/site-packages (from pexpect; sys_platform != \"win32\"->ipython>=4.0.0; python_version >= \"3.3\"->ipywidgets>=7.5.1->pandas-profiling) (0.6.0)\n",
      "Requirement already satisfied: importlib-metadata; python_version < \"3.8\" in /Users/cadu/opt/anaconda3/lib/python3.7/site-packages (from jsonschema!=2.5.0,>=2.4->nbformat>=4.2.0->ipywidgets>=7.5.1->pandas-profiling) (1.5.0)\n",
      "Requirement already satisfied: pyrsistent>=0.14.0 in /Users/cadu/opt/anaconda3/lib/python3.7/site-packages (from jsonschema!=2.5.0,>=2.4->nbformat>=4.2.0->ipywidgets>=7.5.1->pandas-profiling) (0.15.7)\n",
      "Requirement already satisfied: pyzmq>=13 in /Users/cadu/opt/anaconda3/lib/python3.7/site-packages (from jupyter-client->ipykernel>=4.5.1->ipywidgets>=7.5.1->pandas-profiling) (18.1.1)\n",
      "Requirement already satisfied: prometheus-client in /Users/cadu/opt/anaconda3/lib/python3.7/site-packages (from notebook>=4.4.1->widgetsnbextension~=3.5.0->ipywidgets>=7.5.1->pandas-profiling) (0.7.1)\n",
      "Requirement already satisfied: Send2Trash in /Users/cadu/opt/anaconda3/lib/python3.7/site-packages (from notebook>=4.4.1->widgetsnbextension~=3.5.0->ipywidgets>=7.5.1->pandas-profiling) (1.5.0)\n",
      "Requirement already satisfied: terminado>=0.8.1 in /Users/cadu/opt/anaconda3/lib/python3.7/site-packages (from notebook>=4.4.1->widgetsnbextension~=3.5.0->ipywidgets>=7.5.1->pandas-profiling) (0.8.3)\n",
      "Requirement already satisfied: nbconvert in /Users/cadu/opt/anaconda3/lib/python3.7/site-packages (from notebook>=4.4.1->widgetsnbextension~=3.5.0->ipywidgets>=7.5.1->pandas-profiling) (5.6.1)\n",
      "Requirement already satisfied: zipp>=0.5 in /Users/cadu/opt/anaconda3/lib/python3.7/site-packages (from importlib-metadata; python_version < \"3.8\"->jsonschema!=2.5.0,>=2.4->nbformat>=4.2.0->ipywidgets>=7.5.1->pandas-profiling) (2.2.0)\n",
      "Requirement already satisfied: pandocfilters>=1.4.1 in /Users/cadu/opt/anaconda3/lib/python3.7/site-packages (from nbconvert->notebook>=4.4.1->widgetsnbextension~=3.5.0->ipywidgets>=7.5.1->pandas-profiling) (1.4.2)\n",
      "Requirement already satisfied: mistune<2,>=0.8.1 in /Users/cadu/opt/anaconda3/lib/python3.7/site-packages (from nbconvert->notebook>=4.4.1->widgetsnbextension~=3.5.0->ipywidgets>=7.5.1->pandas-profiling) (0.8.4)\n",
      "Requirement already satisfied: entrypoints>=0.2.2 in /Users/cadu/opt/anaconda3/lib/python3.7/site-packages (from nbconvert->notebook>=4.4.1->widgetsnbextension~=3.5.0->ipywidgets>=7.5.1->pandas-profiling) (0.3)\n",
      "Requirement already satisfied: testpath in /Users/cadu/opt/anaconda3/lib/python3.7/site-packages (from nbconvert->notebook>=4.4.1->widgetsnbextension~=3.5.0->ipywidgets>=7.5.1->pandas-profiling) (0.4.4)\n",
      "Requirement already satisfied: bleach in /Users/cadu/opt/anaconda3/lib/python3.7/site-packages (from nbconvert->notebook>=4.4.1->widgetsnbextension~=3.5.0->ipywidgets>=7.5.1->pandas-profiling) (3.1.0)\n",
      "Requirement already satisfied: defusedxml in /Users/cadu/opt/anaconda3/lib/python3.7/site-packages (from nbconvert->notebook>=4.4.1->widgetsnbextension~=3.5.0->ipywidgets>=7.5.1->pandas-profiling) (0.6.0)\n",
      "Requirement already satisfied: webencodings in /Users/cadu/opt/anaconda3/lib/python3.7/site-packages (from bleach->nbconvert->notebook>=4.4.1->widgetsnbextension~=3.5.0->ipywidgets>=7.5.1->pandas-profiling) (0.5.1)\n"
     ]
    }
   ],
   "source": [
    "# !pip install pandas-profiling"
   ]
  },
  {
   "cell_type": "code",
   "execution_count": 3,
   "metadata": {},
   "outputs": [],
   "source": [
    "import numpy as np\n",
    "import pandas as pd\n",
    "pd.set_option('display.max_columns', 500)\n",
    "pd.set_option('display.width', 1000)\n",
    "import glob\n",
    "import os\n",
    "import warnings\n",
    "warnings.filterwarnings(\"ignore\")\n",
    "from pandas_profiling import ProfileReport"
   ]
  },
  {
   "cell_type": "code",
   "execution_count": 4,
   "metadata": {},
   "outputs": [
    {
     "name": "stdout",
     "output_type": "stream",
     "text": [
      "--2020-06-28 19:04:41--  http://arquivos.prf.gov.br/arquivos/index.php/s/kRBUylqz6DyQznN/download\n",
      "Resolving arquivos.prf.gov.br (arquivos.prf.gov.br)... 138.122.112.72\n",
      "Connecting to arquivos.prf.gov.br (arquivos.prf.gov.br)|138.122.112.72|:80... connected.\n",
      "HTTP request sent, awaiting response... 302 Moved Temporarily\n",
      "Location: https://arquivos.prf.gov.br/arquivos/index.php/s/kRBUylqz6DyQznN/download [following]\n",
      "--2020-06-28 19:04:41--  https://arquivos.prf.gov.br/arquivos/index.php/s/kRBUylqz6DyQznN/download\n",
      "Connecting to arquivos.prf.gov.br (arquivos.prf.gov.br)|138.122.112.72|:443... connected.\n",
      "HTTP request sent, awaiting response... 200 OK\n",
      "Length: 2872620 (2.7M) [application/zip]\n",
      "Saving to: ‘download’\n",
      "\n",
      "download            100%[===================>]   2.74M   605KB/s    in 4.6s    \n",
      "\n",
      "2020-06-28 19:04:46 (604 KB/s) - ‘download’ saved [2872620/2872620]\n",
      "\n",
      "Archive:  download\n",
      "  inflating: datatran2019.csv        \n"
     ]
    }
   ],
   "source": [
    "# only have to run once\n",
    "# !wget http://arquivos.prf.gov.br/arquivos/index.php/s/kRBUylqz6DyQznN/download\n",
    "# !unzip download"
   ]
  },
  {
   "cell_type": "code",
   "execution_count": 5,
   "metadata": {},
   "outputs": [
    {
     "name": "stdout",
     "output_type": "stream",
     "text": [
      "--2020-06-28 19:04:46--  http://arquivos.prf.gov.br/arquivos/index.php/s/MaC6cieXSFACNWT/download\n",
      "Resolving arquivos.prf.gov.br (arquivos.prf.gov.br)... 138.122.112.72\n",
      "Connecting to arquivos.prf.gov.br (arquivos.prf.gov.br)|138.122.112.72|:80... connected.\n",
      "HTTP request sent, awaiting response... 302 Moved Temporarily\n",
      "Location: https://arquivos.prf.gov.br/arquivos/index.php/s/MaC6cieXSFACNWT/download [following]\n",
      "--2020-06-28 19:04:46--  https://arquivos.prf.gov.br/arquivos/index.php/s/MaC6cieXSFACNWT/download\n",
      "Connecting to arquivos.prf.gov.br (arquivos.prf.gov.br)|138.122.112.72|:443... connected.\n",
      "HTTP request sent, awaiting response... 200 OK\n",
      "Length: 3080339 (2.9M) [application/zip]\n",
      "Saving to: ‘download.1’\n",
      "\n",
      "download.1          100%[===================>]   2.94M  2.94MB/s    in 1.0s    \n",
      "\n",
      "2020-06-28 19:04:48 (2.94 MB/s) - ‘download.1’ saved [3080339/3080339]\n",
      "\n",
      "Archive:  download.1\n",
      "  inflating: datatran2018.csv        \n"
     ]
    }
   ],
   "source": [
    "# !wget http://arquivos.prf.gov.br/arquivos/index.php/s/MaC6cieXSFACNWT/download\n",
    "# !unzip 'download.1'"
   ]
  },
  {
   "cell_type": "code",
   "execution_count": 6,
   "metadata": {},
   "outputs": [
    {
     "name": "stdout",
     "output_type": "stream",
     "text": [
      "--2020-06-28 19:04:48--  http://arquivos.prf.gov.br/arquivos/index.php/s/nqvFu7xEF6HhbAq/download\n",
      "Resolving arquivos.prf.gov.br (arquivos.prf.gov.br)... 138.122.112.72\n",
      "Connecting to arquivos.prf.gov.br (arquivos.prf.gov.br)|138.122.112.72|:80... connected.\n",
      "HTTP request sent, awaiting response... 302 Moved Temporarily\n",
      "Location: https://arquivos.prf.gov.br/arquivos/index.php/s/nqvFu7xEF6HhbAq/download [following]\n",
      "--2020-06-28 19:04:48--  https://arquivos.prf.gov.br/arquivos/index.php/s/nqvFu7xEF6HhbAq/download\n",
      "Connecting to arquivos.prf.gov.br (arquivos.prf.gov.br)|138.122.112.72|:443... connected.\n",
      "HTTP request sent, awaiting response... 200 OK\n",
      "Length: 3960228 (3.8M) [application/zip]\n",
      "Saving to: ‘download.2’\n",
      "\n",
      "download.2          100%[===================>]   3.78M   780KB/s    in 4.8s    \n",
      "\n",
      "2020-06-28 19:04:53 (811 KB/s) - ‘download.2’ saved [3960228/3960228]\n",
      "\n",
      "Archive:  download.2\n",
      "  inflating: datatran2017.csv        \n"
     ]
    }
   ],
   "source": [
    "# !wget http://arquivos.prf.gov.br/arquivos/index.php/s/nqvFu7xEF6HhbAq/download\n",
    "# !unzip 'download.2'"
   ]
  },
  {
   "cell_type": "code",
   "execution_count": 7,
   "metadata": {},
   "outputs": [
    {
     "name": "stdout",
     "output_type": "stream",
     "text": [
      "--2020-06-28 19:04:54--  http://arquivos.prf.gov.br/arquivos/index.php/s/jdDLrQIf33xXSCe/download\n",
      "Resolving arquivos.prf.gov.br (arquivos.prf.gov.br)... 138.122.112.72\n",
      "Connecting to arquivos.prf.gov.br (arquivos.prf.gov.br)|138.122.112.72|:80... connected.\n",
      "HTTP request sent, awaiting response... 302 Moved Temporarily\n",
      "Location: https://arquivos.prf.gov.br/arquivos/index.php/s/jdDLrQIf33xXSCe/download [following]\n",
      "--2020-06-28 19:04:54--  https://arquivos.prf.gov.br/arquivos/index.php/s/jdDLrQIf33xXSCe/download\n",
      "Connecting to arquivos.prf.gov.br (arquivos.prf.gov.br)|138.122.112.72|:443... connected.\n",
      "HTTP request sent, awaiting response... 200 OK\n",
      "Length: 874728 (854K) [application/zip]\n",
      "Saving to: ‘download.3’\n",
      "\n",
      "download.3          100%[===================>] 854.23K   605KB/s    in 1.4s    \n",
      "\n",
      "2020-06-28 19:04:56 (605 KB/s) - ‘download.3’ saved [874728/874728]\n",
      "\n",
      "Archive:  download.3\n",
      "  inflating: datatran2020.csv        \n"
     ]
    }
   ],
   "source": [
    "# !wget http://arquivos.prf.gov.br/arquivos/index.php/s/jdDLrQIf33xXSCe/download\n",
    "# !unzip 'download.3'    "
   ]
  },
  {
   "cell_type": "code",
   "execution_count": 9,
   "metadata": {},
   "outputs": [
    {
     "name": "stdout",
     "output_type": "stream",
     "text": [
      "['datatran2020.csv', 'datatran2019.csv', 'datatran2018.csv', 'datatran2017.csv']\n"
     ]
    }
   ],
   "source": [
    "print(os.listdir('../data'))"
   ]
  },
  {
   "cell_type": "code",
   "execution_count": 11,
   "metadata": {},
   "outputs": [
    {
     "name": "stdout",
     "output_type": "stream",
     "text": [
      "There are 19573 rows and 29 columns\n",
      "There are 67446 rows and 29 columns\n",
      "There are 69295 rows and 29 columns\n",
      "There are 89563 rows and 29 columns\n",
      "There are 245877 rows and 29 columns\n"
     ]
    }
   ],
   "source": [
    "df_dtran = pd.DataFrame()\n",
    "path =r'../data'\n",
    "filenames = glob.glob(path + \"/*.csv\")\n",
    "\n",
    "for file in filenames:\n",
    "    df = pd.read_csv(file, sep = ';', decimal=\",\", encoding = \"ISO-8859-1\",\n",
    "                     index_col=False, parse_dates=[[\"data_inversa\", \"horario\"]])\n",
    "    nRow, nCol = df.shape\n",
    "    print(f'There are {nRow} rows and {nCol} columns')\n",
    "    df_dtran = pd.concat([df_dtran,df],axis=0)\n",
    "\n",
    "nRow, nCol = df_dtran.shape\n",
    "print(f'There are {nRow} rows and {nCol} columns')"
   ]
  },
  {
   "cell_type": "code",
   "execution_count": 13,
   "metadata": {},
   "outputs": [
    {
     "data": {
      "application/vnd.jupyter.widget-view+json": {
       "model_id": "1b679c413148447caf1b3b0fe900e7c2",
       "version_major": 2,
       "version_minor": 0
      },
      "text/plain": [
       "HBox(children=(FloatProgress(value=0.0, description='Summarize dataset', max=39.0, style=ProgressStyle(descrip…"
      ]
     },
     "metadata": {},
     "output_type": "display_data"
    },
    {
     "name": "stdout",
     "output_type": "stream",
     "text": [
      "\n"
     ]
    },
    {
     "data": {
      "application/vnd.jupyter.widget-view+json": {
       "model_id": "c2bf7b8e828748359e6dc85ea1c7fa50",
       "version_major": 2,
       "version_minor": 0
      },
      "text/plain": [
       "HBox(children=(FloatProgress(value=0.0, description='Generate report structure', max=1.0, style=ProgressStyle(…"
      ]
     },
     "metadata": {},
     "output_type": "display_data"
    },
    {
     "name": "stdout",
     "output_type": "stream",
     "text": [
      "\n"
     ]
    },
    {
     "data": {
      "application/vnd.jupyter.widget-view+json": {
       "model_id": "1a003971f28946adaa01f4ab4287aa48",
       "version_major": 2,
       "version_minor": 0
      },
      "text/plain": [
       "HBox(children=(FloatProgress(value=0.0, description='Render HTML', max=1.0, style=ProgressStyle(description_wi…"
      ]
     },
     "metadata": {},
     "output_type": "display_data"
    },
    {
     "name": "stdout",
     "output_type": "stream",
     "text": [
      "\n"
     ]
    },
    {
     "data": {
      "application/vnd.jupyter.widget-view+json": {
       "model_id": "c42284f86daf415eb500ee25ba661fa8",
       "version_major": 2,
       "version_minor": 0
      },
      "text/plain": [
       "HBox(children=(FloatProgress(value=0.0, description='Export report to file', max=1.0, style=ProgressStyle(desc…"
      ]
     },
     "metadata": {},
     "output_type": "display_data"
    },
    {
     "name": "stdout",
     "output_type": "stream",
     "text": [
      "\n"
     ]
    }
   ],
   "source": [
    "profile = ProfileReport(df_dtran, minimal=True)\n",
    "profile.to_file(\"first_data_analysis_accidents.html\")"
   ]
  },
  {
   "cell_type": "code",
   "execution_count": null,
   "metadata": {},
   "outputs": [],
   "source": []
  }
 ],
 "metadata": {
  "hide_input": false,
  "kernelspec": {
   "display_name": "Python 3",
   "language": "python",
   "name": "python3"
  },
  "language_info": {
   "codemirror_mode": {
    "name": "ipython",
    "version": 3
   },
   "file_extension": ".py",
   "mimetype": "text/x-python",
   "name": "python",
   "nbconvert_exporter": "python",
   "pygments_lexer": "ipython3",
   "version": "3.7.6"
  }
 },
 "nbformat": 4,
 "nbformat_minor": 4
}
